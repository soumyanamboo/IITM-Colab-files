{
  "nbformat": 4,
  "nbformat_minor": 0,
  "metadata": {
    "colab": {
      "provenance": [],
      "authorship_tag": "ABX9TyMx+Wi6mfduzdFiQU6M0qdJ"
    },
    "kernelspec": {
      "name": "python3",
      "display_name": "Python 3"
    },
    "language_info": {
      "name": "python"
    }
  },
  "cells": [
    {
      "cell_type": "markdown",
      "source": [
        "##Hackathon"
      ],
      "metadata": {
        "id": "oG5DqMD06Ets"
      }
    },
    {
      "cell_type": "markdown",
      "source": [
        "#1. Conduct Exploratory Data Analysis."
      ],
      "metadata": {
        "id": "adV_naFkDZso"
      }
    },
    {
      "cell_type": "markdown",
      "source": [
        "##Import Basic libraries"
      ],
      "metadata": {
        "id": "gPROa28218Aj"
      }
    },
    {
      "cell_type": "code",
      "execution_count": null,
      "metadata": {
        "id": "Grqcj1Q3pozV"
      },
      "outputs": [],
      "source": [
        "import numpy as np\n",
        "import pandas as pd\n",
        "import matplotlib.pyplot as plt\n",
        "import seaborn as sns"
      ]
    },
    {
      "cell_type": "markdown",
      "source": [
        "##Read input file as DataFrame"
      ],
      "metadata": {
        "id": "eRCMj8ir2Ac9"
      }
    },
    {
      "cell_type": "code",
      "source": [
        "input_data = pd.read_csv('/content/sample_data/test - train.csv')\n",
        "columns = input_data.columns\n",
        "input_data.shape"
      ],
      "metadata": {
        "colab": {
          "base_uri": "https://localhost:8080/"
        },
        "id": "xPKiAVy6rHby",
        "outputId": "12b65a68-4453-4ff7-ffc7-b116c88664f7"
      },
      "execution_count": null,
      "outputs": [
        {
          "output_type": "execute_result",
          "data": {
            "text/plain": [
              "(498513, 4)"
            ]
          },
          "metadata": {},
          "execution_count": 2
        }
      ]
    },
    {
      "cell_type": "markdown",
      "source": [
        "##Checking the input data information"
      ],
      "metadata": {
        "id": "GG1-xFjx2F-g"
      }
    },
    {
      "cell_type": "code",
      "source": [
        "input_data.info()"
      ],
      "metadata": {
        "colab": {
          "base_uri": "https://localhost:8080/"
        },
        "id": "Jt0nB0p6rsxh",
        "outputId": "16293978-80c9-4265-f34e-e9071d17c950"
      },
      "execution_count": null,
      "outputs": [
        {
          "output_type": "stream",
          "name": "stdout",
          "text": [
            "<class 'pandas.core.frame.DataFrame'>\n",
            "RangeIndex: 498513 entries, 0 to 498512\n",
            "Data columns (total 4 columns):\n",
            " #   Column         Non-Null Count   Dtype  \n",
            "---  ------         --------------   -----  \n",
            " 0   building_id    498513 non-null  int64  \n",
            " 1   meter          498513 non-null  int64  \n",
            " 2   timestamp      498513 non-null  object \n",
            " 3   meter_reading  498513 non-null  float64\n",
            "dtypes: float64(1), int64(2), object(1)\n",
            "memory usage: 15.2+ MB\n"
          ]
        }
      ]
    },
    {
      "cell_type": "markdown",
      "source": [
        "**The input data has a non-numeric column Timestamp**"
      ],
      "metadata": {
        "id": "fobSaxFl2MMZ"
      }
    },
    {
      "cell_type": "markdown",
      "source": [
        "## Convert timestamp to numeric using OrdinalEncoder"
      ],
      "metadata": {
        "id": "_YVzsOn_2SpO"
      }
    },
    {
      "cell_type": "code",
      "source": [
        "from sklearn.preprocessing import OrdinalEncoder\n",
        "from sklearn.compose import ColumnTransformer\n",
        "\n",
        "ord_enc = OrdinalEncoder()\n",
        "ct = ColumnTransformer([('ord_enc', ord_enc, [2])],                        \n",
        "                        remainder='passthrough'    \n",
        "                        )\n",
        "new_data = ct.fit_transform(input_data)\n",
        "new_columns=['timestamp', 'building_id', 'meter', 'meter_reading']\n",
        "new_data_df = pd.DataFrame(new_data, columns=new_columns)\n",
        "new_data_df.info()\n"
      ],
      "metadata": {
        "colab": {
          "base_uri": "https://localhost:8080/"
        },
        "id": "pksp1m0vu0Jk",
        "outputId": "b762c1f7-dbe4-4625-9d38-7fb415c68bde"
      },
      "execution_count": null,
      "outputs": [
        {
          "output_type": "stream",
          "name": "stdout",
          "text": [
            "<class 'pandas.core.frame.DataFrame'>\n",
            "RangeIndex: 498513 entries, 0 to 498512\n",
            "Data columns (total 4 columns):\n",
            " #   Column         Non-Null Count   Dtype  \n",
            "---  ------         --------------   -----  \n",
            " 0   timestamp      498513 non-null  float64\n",
            " 1   building_id    498513 non-null  float64\n",
            " 2   meter          498513 non-null  float64\n",
            " 3   meter_reading  498513 non-null  float64\n",
            "dtypes: float64(4)\n",
            "memory usage: 15.2 MB\n"
          ]
        }
      ]
    },
    {
      "cell_type": "markdown",
      "source": [
        "## To find the missing values (null values in input)"
      ],
      "metadata": {
        "id": "xuPw9KSQ2vIB"
      }
    },
    {
      "cell_type": "code",
      "source": [
        "new_data_df.isna().sum()"
      ],
      "metadata": {
        "colab": {
          "base_uri": "https://localhost:8080/"
        },
        "id": "Et5lprR1waob",
        "outputId": "8bd69eaa-fda4-4327-cdb9-d80b102341ad"
      },
      "execution_count": null,
      "outputs": [
        {
          "output_type": "execute_result",
          "data": {
            "text/plain": [
              "timestamp        0\n",
              "building_id      0\n",
              "meter            0\n",
              "meter_reading    0\n",
              "dtype: int64"
            ]
          },
          "metadata": {},
          "execution_count": 5
        }
      ]
    },
    {
      "cell_type": "markdown",
      "source": [
        "**There are no missing values in the given dataset**"
      ],
      "metadata": {
        "id": "__WiY8vV51vm"
      }
    },
    {
      "cell_type": "code",
      "source": [
        "new_data_df.describe()"
      ],
      "metadata": {
        "colab": {
          "base_uri": "https://localhost:8080/",
          "height": 300
        },
        "id": "nT1kzmv3r4Rg",
        "outputId": "3d289567-e677-4713-e9da-c88e79840f87"
      },
      "execution_count": null,
      "outputs": [
        {
          "output_type": "execute_result",
          "data": {
            "text/plain": [
              "           timestamp    building_id          meter  meter_reading\n",
              "count  498513.000000  498513.000000  498513.000000   4.985130e+05\n",
              "mean      107.982356     813.646820       0.657554   1.994749e+03\n",
              "std        62.638052     426.419227       0.933705   9.220850e+04\n",
              "min         0.000000       0.000000       0.000000   0.000000e+00\n",
              "25%        54.000000     414.000000       0.000000   1.210720e+01\n",
              "50%       108.000000     907.000000       0.000000   6.197520e+01\n",
              "75%       162.000000    1197.000000       1.000000   2.160000e+02\n",
              "max       216.000000    1448.000000       3.000000   8.243400e+06"
            ],
            "text/html": [
              "\n",
              "  <div id=\"df-cde7b42a-b862-49d6-8354-37ae91e94703\">\n",
              "    <div class=\"colab-df-container\">\n",
              "      <div>\n",
              "<style scoped>\n",
              "    .dataframe tbody tr th:only-of-type {\n",
              "        vertical-align: middle;\n",
              "    }\n",
              "\n",
              "    .dataframe tbody tr th {\n",
              "        vertical-align: top;\n",
              "    }\n",
              "\n",
              "    .dataframe thead th {\n",
              "        text-align: right;\n",
              "    }\n",
              "</style>\n",
              "<table border=\"1\" class=\"dataframe\">\n",
              "  <thead>\n",
              "    <tr style=\"text-align: right;\">\n",
              "      <th></th>\n",
              "      <th>timestamp</th>\n",
              "      <th>building_id</th>\n",
              "      <th>meter</th>\n",
              "      <th>meter_reading</th>\n",
              "    </tr>\n",
              "  </thead>\n",
              "  <tbody>\n",
              "    <tr>\n",
              "      <th>count</th>\n",
              "      <td>498513.000000</td>\n",
              "      <td>498513.000000</td>\n",
              "      <td>498513.000000</td>\n",
              "      <td>4.985130e+05</td>\n",
              "    </tr>\n",
              "    <tr>\n",
              "      <th>mean</th>\n",
              "      <td>107.982356</td>\n",
              "      <td>813.646820</td>\n",
              "      <td>0.657554</td>\n",
              "      <td>1.994749e+03</td>\n",
              "    </tr>\n",
              "    <tr>\n",
              "      <th>std</th>\n",
              "      <td>62.638052</td>\n",
              "      <td>426.419227</td>\n",
              "      <td>0.933705</td>\n",
              "      <td>9.220850e+04</td>\n",
              "    </tr>\n",
              "    <tr>\n",
              "      <th>min</th>\n",
              "      <td>0.000000</td>\n",
              "      <td>0.000000</td>\n",
              "      <td>0.000000</td>\n",
              "      <td>0.000000e+00</td>\n",
              "    </tr>\n",
              "    <tr>\n",
              "      <th>25%</th>\n",
              "      <td>54.000000</td>\n",
              "      <td>414.000000</td>\n",
              "      <td>0.000000</td>\n",
              "      <td>1.210720e+01</td>\n",
              "    </tr>\n",
              "    <tr>\n",
              "      <th>50%</th>\n",
              "      <td>108.000000</td>\n",
              "      <td>907.000000</td>\n",
              "      <td>0.000000</td>\n",
              "      <td>6.197520e+01</td>\n",
              "    </tr>\n",
              "    <tr>\n",
              "      <th>75%</th>\n",
              "      <td>162.000000</td>\n",
              "      <td>1197.000000</td>\n",
              "      <td>1.000000</td>\n",
              "      <td>2.160000e+02</td>\n",
              "    </tr>\n",
              "    <tr>\n",
              "      <th>max</th>\n",
              "      <td>216.000000</td>\n",
              "      <td>1448.000000</td>\n",
              "      <td>3.000000</td>\n",
              "      <td>8.243400e+06</td>\n",
              "    </tr>\n",
              "  </tbody>\n",
              "</table>\n",
              "</div>\n",
              "      <button class=\"colab-df-convert\" onclick=\"convertToInteractive('df-cde7b42a-b862-49d6-8354-37ae91e94703')\"\n",
              "              title=\"Convert this dataframe to an interactive table.\"\n",
              "              style=\"display:none;\">\n",
              "        \n",
              "  <svg xmlns=\"http://www.w3.org/2000/svg\" height=\"24px\"viewBox=\"0 0 24 24\"\n",
              "       width=\"24px\">\n",
              "    <path d=\"M0 0h24v24H0V0z\" fill=\"none\"/>\n",
              "    <path d=\"M18.56 5.44l.94 2.06.94-2.06 2.06-.94-2.06-.94-.94-2.06-.94 2.06-2.06.94zm-11 1L8.5 8.5l.94-2.06 2.06-.94-2.06-.94L8.5 2.5l-.94 2.06-2.06.94zm10 10l.94 2.06.94-2.06 2.06-.94-2.06-.94-.94-2.06-.94 2.06-2.06.94z\"/><path d=\"M17.41 7.96l-1.37-1.37c-.4-.4-.92-.59-1.43-.59-.52 0-1.04.2-1.43.59L10.3 9.45l-7.72 7.72c-.78.78-.78 2.05 0 2.83L4 21.41c.39.39.9.59 1.41.59.51 0 1.02-.2 1.41-.59l7.78-7.78 2.81-2.81c.8-.78.8-2.07 0-2.86zM5.41 20L4 18.59l7.72-7.72 1.47 1.35L5.41 20z\"/>\n",
              "  </svg>\n",
              "      </button>\n",
              "      \n",
              "  <style>\n",
              "    .colab-df-container {\n",
              "      display:flex;\n",
              "      flex-wrap:wrap;\n",
              "      gap: 12px;\n",
              "    }\n",
              "\n",
              "    .colab-df-convert {\n",
              "      background-color: #E8F0FE;\n",
              "      border: none;\n",
              "      border-radius: 50%;\n",
              "      cursor: pointer;\n",
              "      display: none;\n",
              "      fill: #1967D2;\n",
              "      height: 32px;\n",
              "      padding: 0 0 0 0;\n",
              "      width: 32px;\n",
              "    }\n",
              "\n",
              "    .colab-df-convert:hover {\n",
              "      background-color: #E2EBFA;\n",
              "      box-shadow: 0px 1px 2px rgba(60, 64, 67, 0.3), 0px 1px 3px 1px rgba(60, 64, 67, 0.15);\n",
              "      fill: #174EA6;\n",
              "    }\n",
              "\n",
              "    [theme=dark] .colab-df-convert {\n",
              "      background-color: #3B4455;\n",
              "      fill: #D2E3FC;\n",
              "    }\n",
              "\n",
              "    [theme=dark] .colab-df-convert:hover {\n",
              "      background-color: #434B5C;\n",
              "      box-shadow: 0px 1px 3px 1px rgba(0, 0, 0, 0.15);\n",
              "      filter: drop-shadow(0px 1px 2px rgba(0, 0, 0, 0.3));\n",
              "      fill: #FFFFFF;\n",
              "    }\n",
              "  </style>\n",
              "\n",
              "      <script>\n",
              "        const buttonEl =\n",
              "          document.querySelector('#df-cde7b42a-b862-49d6-8354-37ae91e94703 button.colab-df-convert');\n",
              "        buttonEl.style.display =\n",
              "          google.colab.kernel.accessAllowed ? 'block' : 'none';\n",
              "\n",
              "        async function convertToInteractive(key) {\n",
              "          const element = document.querySelector('#df-cde7b42a-b862-49d6-8354-37ae91e94703');\n",
              "          const dataTable =\n",
              "            await google.colab.kernel.invokeFunction('convertToInteractive',\n",
              "                                                     [key], {});\n",
              "          if (!dataTable) return;\n",
              "\n",
              "          const docLinkHtml = 'Like what you see? Visit the ' +\n",
              "            '<a target=\"_blank\" href=https://colab.research.google.com/notebooks/data_table.ipynb>data table notebook</a>'\n",
              "            + ' to learn more about interactive tables.';\n",
              "          element.innerHTML = '';\n",
              "          dataTable['output_type'] = 'display_data';\n",
              "          await google.colab.output.renderOutput(dataTable, element);\n",
              "          const docLink = document.createElement('div');\n",
              "          docLink.innerHTML = docLinkHtml;\n",
              "          element.appendChild(docLink);\n",
              "        }\n",
              "      </script>\n",
              "    </div>\n",
              "  </div>\n",
              "  "
            ]
          },
          "metadata": {},
          "execution_count": 6
        }
      ]
    },
    {
      "cell_type": "code",
      "source": [
        "new_data_df['building_id'].unique()"
      ],
      "metadata": {
        "colab": {
          "base_uri": "https://localhost:8080/"
        },
        "id": "HRQjsAmU-pbe",
        "outputId": "0e19028d-999b-41a2-8d8b-6c6f0871b99b"
      },
      "execution_count": null,
      "outputs": [
        {
          "output_type": "execute_result",
          "data": {
            "text/plain": [
              "array([  0.,   1.,   2., ..., 300.,  29., 839.])"
            ]
          },
          "metadata": {},
          "execution_count": 7
        }
      ]
    },
    {
      "cell_type": "markdown",
      "source": [
        "##To find the building id and meter where reading is 0"
      ],
      "metadata": {
        "id": "kge2RPA64AsK"
      }
    },
    {
      "cell_type": "code",
      "source": [
        "print(input_data[input_data['meter_reading'] == 0])\n",
        "zero_reading = input_data[input_data['meter_reading'] == 0]"
      ],
      "metadata": {
        "colab": {
          "base_uri": "https://localhost:8080/"
        },
        "id": "9K5VFK_z4FQV",
        "outputId": "902f9417-8528-47e7-9f49-08438f1810ed"
      },
      "execution_count": null,
      "outputs": [
        {
          "output_type": "stream",
          "name": "stdout",
          "text": [
            "        building_id  meter           timestamp  meter_reading\n",
            "0                 0      0  2016-01-01 0:00:00            0.0\n",
            "1                 1      0  2016-01-01 0:00:00            0.0\n",
            "2                 2      0  2016-01-01 0:00:00            0.0\n",
            "3                 3      0  2016-01-01 0:00:00            0.0\n",
            "4                 4      0  2016-01-01 0:00:00            0.0\n",
            "...             ...    ...                 ...            ...\n",
            "498433         1397      1  2016-01-10 0:00:00            0.0\n",
            "498435         1398      1  2016-01-10 0:00:00            0.0\n",
            "498458         1411      1  2016-01-10 0:00:00            0.0\n",
            "498460         1412      1  2016-01-10 0:00:00            0.0\n",
            "498510         1446      0  2016-01-10 0:00:00            0.0\n",
            "\n",
            "[61034 rows x 4 columns]\n"
          ]
        }
      ]
    },
    {
      "cell_type": "code",
      "source": [
        "print(len(input_data.building_id.unique()), input_data.building_id.unique())\n",
        "print(input_data.meter.unique())"
      ],
      "metadata": {
        "colab": {
          "base_uri": "https://localhost:8080/"
        },
        "id": "vG7A3pj0xpn3",
        "outputId": "bfc8556a-7b0c-45e5-87ba-03000b6ec8c8"
      },
      "execution_count": null,
      "outputs": [
        {
          "output_type": "stream",
          "name": "stdout",
          "text": [
            "1429 [  0   1   2 ... 300  29 839]\n",
            "[0 3 1 2]\n"
          ]
        }
      ]
    },
    {
      "cell_type": "markdown",
      "source": [
        "## Descriptive Statistical Analysis on input data group by Building"
      ],
      "metadata": {
        "id": "qbrHqUDU6c1-"
      }
    },
    {
      "cell_type": "code",
      "source": [
        "building_df_1 = new_data_df.drop(columns=['timestamp', 'meter'], axis=1)\n",
        "building_df = building_df_1.groupby(['building_id']).describe().reset_index()\n",
        "building_df"
      ],
      "metadata": {
        "colab": {
          "base_uri": "https://localhost:8080/",
          "height": 455
        },
        "id": "mZalZQEmyJyL",
        "outputId": "7bffaa6e-fc4d-4623-bf7b-fa0486405510"
      },
      "execution_count": null,
      "outputs": [
        {
          "output_type": "execute_result",
          "data": {
            "text/plain": [
              "     building_id meter_reading                                         \\\n",
              "                         count        mean       std     min      25%   \n",
              "0            0.0         217.0    0.000000  0.000000    0.00    0.000   \n",
              "1            1.0         217.0    0.312027  2.852787    0.00    0.000   \n",
              "2            2.0         217.0    0.018872  0.161374    0.00    0.000   \n",
              "3            3.0         217.0    0.000000  0.000000    0.00    0.000   \n",
              "4            4.0         217.0    0.000000  0.000000    0.00    0.000   \n",
              "...          ...           ...         ...       ...     ...      ...   \n",
              "1424      1444.0         217.0    6.722926  2.288732    1.20    4.600   \n",
              "1425      1445.0         217.0    5.724654  0.607112    4.70    5.225   \n",
              "1426      1446.0         217.0    1.585138  3.272766    0.00    0.000   \n",
              "1427      1447.0         217.0  151.452419  8.449519  134.65  144.225   \n",
              "1428      1448.0         217.0    3.715207  1.026280    1.95    2.850   \n",
              "\n",
              "                                  \n",
              "          50%      75%       max  \n",
              "0       0.000    0.000    0.0000  \n",
              "1       0.000    0.000   35.2201  \n",
              "2       0.000    0.000    1.6381  \n",
              "3       0.000    0.000    0.0000  \n",
              "4       0.000    0.000    0.0000  \n",
              "...       ...      ...       ...  \n",
              "1424    7.375    8.550   13.2000  \n",
              "1425    5.725    6.025    8.8500  \n",
              "1426    0.000    1.050   11.0500  \n",
              "1427  152.575  157.650  169.0750  \n",
              "1428    3.425    4.525    6.4750  \n",
              "\n",
              "[1429 rows x 9 columns]"
            ],
            "text/html": [
              "\n",
              "  <div id=\"df-fc8b9a49-0705-4ece-99aa-043a081f0ccf\">\n",
              "    <div class=\"colab-df-container\">\n",
              "      <div>\n",
              "<style scoped>\n",
              "    .dataframe tbody tr th:only-of-type {\n",
              "        vertical-align: middle;\n",
              "    }\n",
              "\n",
              "    .dataframe tbody tr th {\n",
              "        vertical-align: top;\n",
              "    }\n",
              "\n",
              "    .dataframe thead tr th {\n",
              "        text-align: left;\n",
              "    }\n",
              "</style>\n",
              "<table border=\"1\" class=\"dataframe\">\n",
              "  <thead>\n",
              "    <tr>\n",
              "      <th></th>\n",
              "      <th>building_id</th>\n",
              "      <th colspan=\"8\" halign=\"left\">meter_reading</th>\n",
              "    </tr>\n",
              "    <tr>\n",
              "      <th></th>\n",
              "      <th></th>\n",
              "      <th>count</th>\n",
              "      <th>mean</th>\n",
              "      <th>std</th>\n",
              "      <th>min</th>\n",
              "      <th>25%</th>\n",
              "      <th>50%</th>\n",
              "      <th>75%</th>\n",
              "      <th>max</th>\n",
              "    </tr>\n",
              "  </thead>\n",
              "  <tbody>\n",
              "    <tr>\n",
              "      <th>0</th>\n",
              "      <td>0.0</td>\n",
              "      <td>217.0</td>\n",
              "      <td>0.000000</td>\n",
              "      <td>0.000000</td>\n",
              "      <td>0.00</td>\n",
              "      <td>0.000</td>\n",
              "      <td>0.000</td>\n",
              "      <td>0.000</td>\n",
              "      <td>0.0000</td>\n",
              "    </tr>\n",
              "    <tr>\n",
              "      <th>1</th>\n",
              "      <td>1.0</td>\n",
              "      <td>217.0</td>\n",
              "      <td>0.312027</td>\n",
              "      <td>2.852787</td>\n",
              "      <td>0.00</td>\n",
              "      <td>0.000</td>\n",
              "      <td>0.000</td>\n",
              "      <td>0.000</td>\n",
              "      <td>35.2201</td>\n",
              "    </tr>\n",
              "    <tr>\n",
              "      <th>2</th>\n",
              "      <td>2.0</td>\n",
              "      <td>217.0</td>\n",
              "      <td>0.018872</td>\n",
              "      <td>0.161374</td>\n",
              "      <td>0.00</td>\n",
              "      <td>0.000</td>\n",
              "      <td>0.000</td>\n",
              "      <td>0.000</td>\n",
              "      <td>1.6381</td>\n",
              "    </tr>\n",
              "    <tr>\n",
              "      <th>3</th>\n",
              "      <td>3.0</td>\n",
              "      <td>217.0</td>\n",
              "      <td>0.000000</td>\n",
              "      <td>0.000000</td>\n",
              "      <td>0.00</td>\n",
              "      <td>0.000</td>\n",
              "      <td>0.000</td>\n",
              "      <td>0.000</td>\n",
              "      <td>0.0000</td>\n",
              "    </tr>\n",
              "    <tr>\n",
              "      <th>4</th>\n",
              "      <td>4.0</td>\n",
              "      <td>217.0</td>\n",
              "      <td>0.000000</td>\n",
              "      <td>0.000000</td>\n",
              "      <td>0.00</td>\n",
              "      <td>0.000</td>\n",
              "      <td>0.000</td>\n",
              "      <td>0.000</td>\n",
              "      <td>0.0000</td>\n",
              "    </tr>\n",
              "    <tr>\n",
              "      <th>...</th>\n",
              "      <td>...</td>\n",
              "      <td>...</td>\n",
              "      <td>...</td>\n",
              "      <td>...</td>\n",
              "      <td>...</td>\n",
              "      <td>...</td>\n",
              "      <td>...</td>\n",
              "      <td>...</td>\n",
              "      <td>...</td>\n",
              "    </tr>\n",
              "    <tr>\n",
              "      <th>1424</th>\n",
              "      <td>1444.0</td>\n",
              "      <td>217.0</td>\n",
              "      <td>6.722926</td>\n",
              "      <td>2.288732</td>\n",
              "      <td>1.20</td>\n",
              "      <td>4.600</td>\n",
              "      <td>7.375</td>\n",
              "      <td>8.550</td>\n",
              "      <td>13.2000</td>\n",
              "    </tr>\n",
              "    <tr>\n",
              "      <th>1425</th>\n",
              "      <td>1445.0</td>\n",
              "      <td>217.0</td>\n",
              "      <td>5.724654</td>\n",
              "      <td>0.607112</td>\n",
              "      <td>4.70</td>\n",
              "      <td>5.225</td>\n",
              "      <td>5.725</td>\n",
              "      <td>6.025</td>\n",
              "      <td>8.8500</td>\n",
              "    </tr>\n",
              "    <tr>\n",
              "      <th>1426</th>\n",
              "      <td>1446.0</td>\n",
              "      <td>217.0</td>\n",
              "      <td>1.585138</td>\n",
              "      <td>3.272766</td>\n",
              "      <td>0.00</td>\n",
              "      <td>0.000</td>\n",
              "      <td>0.000</td>\n",
              "      <td>1.050</td>\n",
              "      <td>11.0500</td>\n",
              "    </tr>\n",
              "    <tr>\n",
              "      <th>1427</th>\n",
              "      <td>1447.0</td>\n",
              "      <td>217.0</td>\n",
              "      <td>151.452419</td>\n",
              "      <td>8.449519</td>\n",
              "      <td>134.65</td>\n",
              "      <td>144.225</td>\n",
              "      <td>152.575</td>\n",
              "      <td>157.650</td>\n",
              "      <td>169.0750</td>\n",
              "    </tr>\n",
              "    <tr>\n",
              "      <th>1428</th>\n",
              "      <td>1448.0</td>\n",
              "      <td>217.0</td>\n",
              "      <td>3.715207</td>\n",
              "      <td>1.026280</td>\n",
              "      <td>1.95</td>\n",
              "      <td>2.850</td>\n",
              "      <td>3.425</td>\n",
              "      <td>4.525</td>\n",
              "      <td>6.4750</td>\n",
              "    </tr>\n",
              "  </tbody>\n",
              "</table>\n",
              "<p>1429 rows × 9 columns</p>\n",
              "</div>\n",
              "      <button class=\"colab-df-convert\" onclick=\"convertToInteractive('df-fc8b9a49-0705-4ece-99aa-043a081f0ccf')\"\n",
              "              title=\"Convert this dataframe to an interactive table.\"\n",
              "              style=\"display:none;\">\n",
              "        \n",
              "  <svg xmlns=\"http://www.w3.org/2000/svg\" height=\"24px\"viewBox=\"0 0 24 24\"\n",
              "       width=\"24px\">\n",
              "    <path d=\"M0 0h24v24H0V0z\" fill=\"none\"/>\n",
              "    <path d=\"M18.56 5.44l.94 2.06.94-2.06 2.06-.94-2.06-.94-.94-2.06-.94 2.06-2.06.94zm-11 1L8.5 8.5l.94-2.06 2.06-.94-2.06-.94L8.5 2.5l-.94 2.06-2.06.94zm10 10l.94 2.06.94-2.06 2.06-.94-2.06-.94-.94-2.06-.94 2.06-2.06.94z\"/><path d=\"M17.41 7.96l-1.37-1.37c-.4-.4-.92-.59-1.43-.59-.52 0-1.04.2-1.43.59L10.3 9.45l-7.72 7.72c-.78.78-.78 2.05 0 2.83L4 21.41c.39.39.9.59 1.41.59.51 0 1.02-.2 1.41-.59l7.78-7.78 2.81-2.81c.8-.78.8-2.07 0-2.86zM5.41 20L4 18.59l7.72-7.72 1.47 1.35L5.41 20z\"/>\n",
              "  </svg>\n",
              "      </button>\n",
              "      \n",
              "  <style>\n",
              "    .colab-df-container {\n",
              "      display:flex;\n",
              "      flex-wrap:wrap;\n",
              "      gap: 12px;\n",
              "    }\n",
              "\n",
              "    .colab-df-convert {\n",
              "      background-color: #E8F0FE;\n",
              "      border: none;\n",
              "      border-radius: 50%;\n",
              "      cursor: pointer;\n",
              "      display: none;\n",
              "      fill: #1967D2;\n",
              "      height: 32px;\n",
              "      padding: 0 0 0 0;\n",
              "      width: 32px;\n",
              "    }\n",
              "\n",
              "    .colab-df-convert:hover {\n",
              "      background-color: #E2EBFA;\n",
              "      box-shadow: 0px 1px 2px rgba(60, 64, 67, 0.3), 0px 1px 3px 1px rgba(60, 64, 67, 0.15);\n",
              "      fill: #174EA6;\n",
              "    }\n",
              "\n",
              "    [theme=dark] .colab-df-convert {\n",
              "      background-color: #3B4455;\n",
              "      fill: #D2E3FC;\n",
              "    }\n",
              "\n",
              "    [theme=dark] .colab-df-convert:hover {\n",
              "      background-color: #434B5C;\n",
              "      box-shadow: 0px 1px 3px 1px rgba(0, 0, 0, 0.15);\n",
              "      filter: drop-shadow(0px 1px 2px rgba(0, 0, 0, 0.3));\n",
              "      fill: #FFFFFF;\n",
              "    }\n",
              "  </style>\n",
              "\n",
              "      <script>\n",
              "        const buttonEl =\n",
              "          document.querySelector('#df-fc8b9a49-0705-4ece-99aa-043a081f0ccf button.colab-df-convert');\n",
              "        buttonEl.style.display =\n",
              "          google.colab.kernel.accessAllowed ? 'block' : 'none';\n",
              "\n",
              "        async function convertToInteractive(key) {\n",
              "          const element = document.querySelector('#df-fc8b9a49-0705-4ece-99aa-043a081f0ccf');\n",
              "          const dataTable =\n",
              "            await google.colab.kernel.invokeFunction('convertToInteractive',\n",
              "                                                     [key], {});\n",
              "          if (!dataTable) return;\n",
              "\n",
              "          const docLinkHtml = 'Like what you see? Visit the ' +\n",
              "            '<a target=\"_blank\" href=https://colab.research.google.com/notebooks/data_table.ipynb>data table notebook</a>'\n",
              "            + ' to learn more about interactive tables.';\n",
              "          element.innerHTML = '';\n",
              "          dataTable['output_type'] = 'display_data';\n",
              "          await google.colab.output.renderOutput(dataTable, element);\n",
              "          const docLink = document.createElement('div');\n",
              "          docLink.innerHTML = docLinkHtml;\n",
              "          element.appendChild(docLink);\n",
              "        }\n",
              "      </script>\n",
              "    </div>\n",
              "  </div>\n",
              "  "
            ]
          },
          "metadata": {},
          "execution_count": 10
        }
      ]
    },
    {
      "cell_type": "markdown",
      "source": [
        "## Descriptive Statistical Analysis on input data group by Meter type"
      ],
      "metadata": {
        "id": "Hq_zAX0H6-0U"
      }
    },
    {
      "cell_type": "code",
      "source": [
        "meter_df_1 = new_data_df.drop(columns=['building_id', 'timestamp'], axis=1)\n",
        "meter_df = meter_df_1.groupby(['meter']).describe().reset_index()\n",
        "meter_df"
      ],
      "metadata": {
        "colab": {
          "base_uri": "https://localhost:8080/",
          "height": 206
        },
        "id": "eGyRLg2s7BPF",
        "outputId": "016a42e3-4b9a-4982-e3e4-f4f1594f5e21"
      },
      "execution_count": null,
      "outputs": [
        {
          "output_type": "execute_result",
          "data": {
            "text/plain": [
              "  meter meter_reading                                                        \\\n",
              "                count          mean            std  min       25%       50%   \n",
              "0   0.0      300817.0    142.352087     332.279473  0.0   14.0000   50.6200   \n",
              "1   1.0       98666.0    139.158769     379.748552  0.0    0.0000   20.0812   \n",
              "2   2.0       67957.0  13529.303410  249429.882453  0.0  186.0500  674.0500   \n",
              "3   3.0       31073.0    593.614321    2045.885618  0.0   23.4457  137.7430   \n",
              "\n",
              "                         \n",
              "         75%        max  \n",
              "0   140.1580     9116.0  \n",
              "1   114.3275     9268.8  \n",
              "2  2058.7000  8243400.0  \n",
              "3   552.6000    92904.0  "
            ],
            "text/html": [
              "\n",
              "  <div id=\"df-960976bf-574a-45f7-9825-e60ab2677373\">\n",
              "    <div class=\"colab-df-container\">\n",
              "      <div>\n",
              "<style scoped>\n",
              "    .dataframe tbody tr th:only-of-type {\n",
              "        vertical-align: middle;\n",
              "    }\n",
              "\n",
              "    .dataframe tbody tr th {\n",
              "        vertical-align: top;\n",
              "    }\n",
              "\n",
              "    .dataframe thead tr th {\n",
              "        text-align: left;\n",
              "    }\n",
              "</style>\n",
              "<table border=\"1\" class=\"dataframe\">\n",
              "  <thead>\n",
              "    <tr>\n",
              "      <th></th>\n",
              "      <th>meter</th>\n",
              "      <th colspan=\"8\" halign=\"left\">meter_reading</th>\n",
              "    </tr>\n",
              "    <tr>\n",
              "      <th></th>\n",
              "      <th></th>\n",
              "      <th>count</th>\n",
              "      <th>mean</th>\n",
              "      <th>std</th>\n",
              "      <th>min</th>\n",
              "      <th>25%</th>\n",
              "      <th>50%</th>\n",
              "      <th>75%</th>\n",
              "      <th>max</th>\n",
              "    </tr>\n",
              "  </thead>\n",
              "  <tbody>\n",
              "    <tr>\n",
              "      <th>0</th>\n",
              "      <td>0.0</td>\n",
              "      <td>300817.0</td>\n",
              "      <td>142.352087</td>\n",
              "      <td>332.279473</td>\n",
              "      <td>0.0</td>\n",
              "      <td>14.0000</td>\n",
              "      <td>50.6200</td>\n",
              "      <td>140.1580</td>\n",
              "      <td>9116.0</td>\n",
              "    </tr>\n",
              "    <tr>\n",
              "      <th>1</th>\n",
              "      <td>1.0</td>\n",
              "      <td>98666.0</td>\n",
              "      <td>139.158769</td>\n",
              "      <td>379.748552</td>\n",
              "      <td>0.0</td>\n",
              "      <td>0.0000</td>\n",
              "      <td>20.0812</td>\n",
              "      <td>114.3275</td>\n",
              "      <td>9268.8</td>\n",
              "    </tr>\n",
              "    <tr>\n",
              "      <th>2</th>\n",
              "      <td>2.0</td>\n",
              "      <td>67957.0</td>\n",
              "      <td>13529.303410</td>\n",
              "      <td>249429.882453</td>\n",
              "      <td>0.0</td>\n",
              "      <td>186.0500</td>\n",
              "      <td>674.0500</td>\n",
              "      <td>2058.7000</td>\n",
              "      <td>8243400.0</td>\n",
              "    </tr>\n",
              "    <tr>\n",
              "      <th>3</th>\n",
              "      <td>3.0</td>\n",
              "      <td>31073.0</td>\n",
              "      <td>593.614321</td>\n",
              "      <td>2045.885618</td>\n",
              "      <td>0.0</td>\n",
              "      <td>23.4457</td>\n",
              "      <td>137.7430</td>\n",
              "      <td>552.6000</td>\n",
              "      <td>92904.0</td>\n",
              "    </tr>\n",
              "  </tbody>\n",
              "</table>\n",
              "</div>\n",
              "      <button class=\"colab-df-convert\" onclick=\"convertToInteractive('df-960976bf-574a-45f7-9825-e60ab2677373')\"\n",
              "              title=\"Convert this dataframe to an interactive table.\"\n",
              "              style=\"display:none;\">\n",
              "        \n",
              "  <svg xmlns=\"http://www.w3.org/2000/svg\" height=\"24px\"viewBox=\"0 0 24 24\"\n",
              "       width=\"24px\">\n",
              "    <path d=\"M0 0h24v24H0V0z\" fill=\"none\"/>\n",
              "    <path d=\"M18.56 5.44l.94 2.06.94-2.06 2.06-.94-2.06-.94-.94-2.06-.94 2.06-2.06.94zm-11 1L8.5 8.5l.94-2.06 2.06-.94-2.06-.94L8.5 2.5l-.94 2.06-2.06.94zm10 10l.94 2.06.94-2.06 2.06-.94-2.06-.94-.94-2.06-.94 2.06-2.06.94z\"/><path d=\"M17.41 7.96l-1.37-1.37c-.4-.4-.92-.59-1.43-.59-.52 0-1.04.2-1.43.59L10.3 9.45l-7.72 7.72c-.78.78-.78 2.05 0 2.83L4 21.41c.39.39.9.59 1.41.59.51 0 1.02-.2 1.41-.59l7.78-7.78 2.81-2.81c.8-.78.8-2.07 0-2.86zM5.41 20L4 18.59l7.72-7.72 1.47 1.35L5.41 20z\"/>\n",
              "  </svg>\n",
              "      </button>\n",
              "      \n",
              "  <style>\n",
              "    .colab-df-container {\n",
              "      display:flex;\n",
              "      flex-wrap:wrap;\n",
              "      gap: 12px;\n",
              "    }\n",
              "\n",
              "    .colab-df-convert {\n",
              "      background-color: #E8F0FE;\n",
              "      border: none;\n",
              "      border-radius: 50%;\n",
              "      cursor: pointer;\n",
              "      display: none;\n",
              "      fill: #1967D2;\n",
              "      height: 32px;\n",
              "      padding: 0 0 0 0;\n",
              "      width: 32px;\n",
              "    }\n",
              "\n",
              "    .colab-df-convert:hover {\n",
              "      background-color: #E2EBFA;\n",
              "      box-shadow: 0px 1px 2px rgba(60, 64, 67, 0.3), 0px 1px 3px 1px rgba(60, 64, 67, 0.15);\n",
              "      fill: #174EA6;\n",
              "    }\n",
              "\n",
              "    [theme=dark] .colab-df-convert {\n",
              "      background-color: #3B4455;\n",
              "      fill: #D2E3FC;\n",
              "    }\n",
              "\n",
              "    [theme=dark] .colab-df-convert:hover {\n",
              "      background-color: #434B5C;\n",
              "      box-shadow: 0px 1px 3px 1px rgba(0, 0, 0, 0.15);\n",
              "      filter: drop-shadow(0px 1px 2px rgba(0, 0, 0, 0.3));\n",
              "      fill: #FFFFFF;\n",
              "    }\n",
              "  </style>\n",
              "\n",
              "      <script>\n",
              "        const buttonEl =\n",
              "          document.querySelector('#df-960976bf-574a-45f7-9825-e60ab2677373 button.colab-df-convert');\n",
              "        buttonEl.style.display =\n",
              "          google.colab.kernel.accessAllowed ? 'block' : 'none';\n",
              "\n",
              "        async function convertToInteractive(key) {\n",
              "          const element = document.querySelector('#df-960976bf-574a-45f7-9825-e60ab2677373');\n",
              "          const dataTable =\n",
              "            await google.colab.kernel.invokeFunction('convertToInteractive',\n",
              "                                                     [key], {});\n",
              "          if (!dataTable) return;\n",
              "\n",
              "          const docLinkHtml = 'Like what you see? Visit the ' +\n",
              "            '<a target=\"_blank\" href=https://colab.research.google.com/notebooks/data_table.ipynb>data table notebook</a>'\n",
              "            + ' to learn more about interactive tables.';\n",
              "          element.innerHTML = '';\n",
              "          dataTable['output_type'] = 'display_data';\n",
              "          await google.colab.output.renderOutput(dataTable, element);\n",
              "          const docLink = document.createElement('div');\n",
              "          docLink.innerHTML = docLinkHtml;\n",
              "          element.appendChild(docLink);\n",
              "        }\n",
              "      </script>\n",
              "    </div>\n",
              "  </div>\n",
              "  "
            ]
          },
          "metadata": {},
          "execution_count": 11
        }
      ]
    },
    {
      "cell_type": "code",
      "source": [
        "X = new_data_df[columns[:-1]]\n",
        "y = new_data_df[columns[-1]]\n",
        "X.shape, y.shape"
      ],
      "metadata": {
        "colab": {
          "base_uri": "https://localhost:8080/"
        },
        "id": "aL4QwUXIwNV2",
        "outputId": "4f93394c-e52d-4266-c50c-d586830b2ccc"
      },
      "execution_count": null,
      "outputs": [
        {
          "output_type": "execute_result",
          "data": {
            "text/plain": [
              "((498513, 3), (498513,))"
            ]
          },
          "metadata": {},
          "execution_count": 12
        }
      ]
    },
    {
      "cell_type": "code",
      "source": [
        "print(np.sum(np.where(y == 0, 1, 0)))"
      ],
      "metadata": {
        "colab": {
          "base_uri": "https://localhost:8080/"
        },
        "id": "cwC4QJhFwoQ6",
        "outputId": "25285e4a-a3f2-4481-c8a4-434d64eebdae"
      },
      "execution_count": null,
      "outputs": [
        {
          "output_type": "stream",
          "name": "stdout",
          "text": [
            "61034\n"
          ]
        }
      ]
    },
    {
      "cell_type": "markdown",
      "source": [
        "## Visualizing Building id vs Meter Reading"
      ],
      "metadata": {
        "id": "V0-z77tvCU0F"
      }
    },
    {
      "cell_type": "code",
      "source": [
        "plt.figure(figsize=(8,8))\n",
        "plt.scatter(X['building_id'], y, cmap='viridis', c=y)\n",
        "plt.title('Bulding_id vs Meter Reading')\n",
        "plt.xlabel('Bulding_id')\n",
        "plt.ylabel('meter reading')\n",
        "plt.show()"
      ],
      "metadata": {
        "colab": {
          "base_uri": "https://localhost:8080/",
          "height": 514
        },
        "id": "2vrXzPD4zt7m",
        "outputId": "86f953a8-5c9d-46f2-e65f-3ddd6dbef80d"
      },
      "execution_count": null,
      "outputs": [
        {
          "output_type": "display_data",
          "data": {
            "text/plain": [
              "<Figure size 576x576 with 1 Axes>"
            ],
            "image/png": "[encoded data removed]"
          },
          "metadata": {
            "needs_background": "light"
          }
        }
      ]
    },
    {
      "cell_type": "markdown",
      "source": [
        "## Visualizing Meter Type vs Meter Reading"
      ],
      "metadata": {
        "id": "8AUnwZ_QCaWO"
      }
    },
    {
      "cell_type": "code",
      "source": [
        "plt.figure(figsize=(8,8))\n",
        "plt.scatter(X['meter'], y, cmap='virdis', c='y')\n",
        "plt.title('Meter Type vs Meter Reading')\n",
        "plt.xlabel('Meter type')\n",
        "plt.ylabel('meter reading')\n",
        "plt.show()"
      ],
      "metadata": {
        "colab": {
          "base_uri": "https://localhost:8080/",
          "height": 513
        },
        "id": "Qx2q5-970L_Y",
        "outputId": "0e82217d-ee17-4b0f-9076-a86723d9a494"
      },
      "execution_count": null,
      "outputs": [
        {
          "output_type": "display_data",
          "data": {
            "text/plain": [
              "<Figure size 576x576 with 1 Axes>"
            ],
            "image/png": "[encoded data removed]"
          },
          "metadata": {
            "needs_background": "light"
          }
        }
      ]
    },
    {
      "cell_type": "markdown",
      "source": [
        "#2. Figure out outliers on the meter reading data set visualising for each unique building and driver. Treat the outliers in the dataset."
      ],
      "metadata": {
        "id": "JLwH_cF5DWy3"
      }
    },
    {
      "cell_type": "markdown",
      "source": [
        "## To check for Outliers\n",
        "Boxplot is a good visualizing technique for finding outliers"
      ],
      "metadata": {
        "id": "-ELTShYlCdMF"
      }
    },
    {
      "cell_type": "markdown",
      "source": [
        "###TO check outliers in Building id"
      ],
      "metadata": {
        "id": "cP0ysGtRCozV"
      }
    },
    {
      "cell_type": "code",
      "source": [
        "sns.boxplot(data=X['building_id'])\n",
        "plt.grid()\n",
        "# sns.swarmplot(data=X['building_id'],size=2,color='k')\n",
        "plt.show()"
      ],
      "metadata": {
        "colab": {
          "base_uri": "https://localhost:8080/",
          "height": 265
        },
        "id": "gfm2uPmY1F_9",
        "outputId": "4e52db23-c222-425b-895c-a5853eacffb1"
      },
      "execution_count": null,
      "outputs": [
        {
          "output_type": "display_data",
          "data": {
            "text/plain": [
              "<Figure size 432x288 with 1 Axes>"
            ],
            "image/png": "[encoded data removed]"
          },
          "metadata": {
            "needs_background": "light"
          }
        }
      ]
    },
    {
      "cell_type": "markdown",
      "source": [
        "**There are no outliers in Building id column**"
      ],
      "metadata": {
        "id": "IgUQyE6OC2IZ"
      }
    },
    {
      "cell_type": "markdown",
      "source": [
        "###TO check outliers in Meter Type"
      ],
      "metadata": {
        "id": "9iYmzhPSCxHu"
      }
    },
    {
      "cell_type": "code",
      "source": [
        "sns.boxplot(data=X['meter'])\n",
        "plt.grid()\n",
        "plt.show()"
      ],
      "metadata": {
        "colab": {
          "base_uri": "https://localhost:8080/",
          "height": 265
        },
        "id": "gSgf5j5W1p3y",
        "outputId": "10ea1313-0467-4ba3-a471-e15d336cefc5"
      },
      "execution_count": null,
      "outputs": [
        {
          "output_type": "display_data",
          "data": {
            "text/plain": [
              "<Figure size 432x288 with 1 Axes>"
            ],
            "image/png": "[encoded data removed]"
          },
          "metadata": {
            "needs_background": "light"
          }
        }
      ]
    },
    {
      "cell_type": "markdown",
      "source": [
        "**There are outliers in meter column**"
      ],
      "metadata": {
        "id": "kQp0UUR3C7cl"
      }
    },
    {
      "cell_type": "markdown",
      "source": [
        "#3. Visualise normal distribution, compute skewness and treat the dataset accordingly."
      ],
      "metadata": {
        "id": "CyLd75iUDdZF"
      }
    },
    {
      "cell_type": "code",
      "source": [
        "sns.histplot(X['building_id'])"
      ],
      "metadata": {
        "colab": {
          "base_uri": "https://localhost:8080/",
          "height": 297
        },
        "id": "cKou6m4UIUdc",
        "outputId": "0a385fa8-b23f-4477-9882-dc5be0ad51fb"
      },
      "execution_count": null,
      "outputs": [
        {
          "output_type": "execute_result",
          "data": {
            "text/plain": [
              "<matplotlib.axes._subplots.AxesSubplot at 0x7f3c661189d0>"
            ]
          },
          "metadata": {},
          "execution_count": 18
        },
        {
          "output_type": "display_data",
          "data": {
            "text/plain": [
              "<Figure size 432x288 with 1 Axes>"
            ],
            "image/png": "[encoded data removed]"
          },
          "metadata": {
            "needs_background": "light"
          }
        }
      ]
    },
    {
      "cell_type": "code",
      "source": [
        "sns.histplot(X['meter'])"
      ],
      "metadata": {
        "colab": {
          "base_uri": "https://localhost:8080/",
          "height": 296
        },
        "id": "f1fN1WkFIkcp",
        "outputId": "0c843729-e021-4d5b-c16e-1806ea3fdce1"
      },
      "execution_count": null,
      "outputs": [
        {
          "output_type": "execute_result",
          "data": {
            "text/plain": [
              "<matplotlib.axes._subplots.AxesSubplot at 0x7f3c662b8cd0>"
            ]
          },
          "metadata": {},
          "execution_count": 19
        },
        {
          "output_type": "display_data",
          "data": {
            "text/plain": [
              "<Figure size 432x288 with 1 Axes>"
            ],
            "image/png": "[encoded data removed]"
          },
          "metadata": {
            "needs_background": "light"
          }
        }
      ]
    },
    {
      "cell_type": "markdown",
      "source": [
        "##To standardize the given data\n",
        "By using StandardScaler the data can be normalized and can "
      ],
      "metadata": {
        "id": "c63v1WnJItRI"
      }
    },
    {
      "cell_type": "code",
      "source": [
        "plt.figure(figsize=(8,8))\n",
        "from sklearn.preprocessing import StandardScaler\n",
        "ss = StandardScaler()\n",
        "X_new = ss.fit_transform(X)\n"
      ],
      "metadata": {
        "colab": {
          "base_uri": "https://localhost:8080/",
          "height": 34
        },
        "id": "ATs9sN2DIxck",
        "outputId": "129118a9-e538-48dc-aadf-58eb0542b4c7"
      },
      "execution_count": null,
      "outputs": [
        {
          "output_type": "display_data",
          "data": {
            "text/plain": [
              "<Figure size 576x576 with 0 Axes>"
            ]
          },
          "metadata": {}
        }
      ]
    },
    {
      "cell_type": "markdown",
      "source": [
        "###Computing skewness"
      ],
      "metadata": {
        "id": "MFH8YZueLCJv"
      }
    },
    {
      "cell_type": "code",
      "source": [
        "from scipy.stats import skew\n",
        "print('The skewness of the given data: ',skew(X))\n"
      ],
      "metadata": {
        "colab": {
          "base_uri": "https://localhost:8080/"
        },
        "id": "ZpxwkzTmKr4S",
        "outputId": "e0e19523-4b44-4819-c64f-1a7a8df6fbf9"
      },
      "execution_count": null,
      "outputs": [
        {
          "output_type": "stream",
          "name": "stdout",
          "text": [
            "The skewness of the given data:  [-3.35586865e-01  1.18836641e+00  4.64600946e-04]\n"
          ]
        }
      ]
    }
  ]
}