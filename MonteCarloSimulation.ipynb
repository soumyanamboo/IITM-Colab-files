{
  "nbformat": 4,
  "nbformat_minor": 0,
  "metadata": {
    "colab": {
      "provenance": [],
      "authorship_tag": "ABX9TyOAS9gyj07e3XGC8ONKt83V"
    },
    "kernelspec": {
      "name": "python3",
      "display_name": "Python 3"
    },
    "language_info": {
      "name": "python"
    }
  },
  "cells": [
    {
      "cell_type": "markdown",
      "metadata": {
        "id": "uZGOido0-KWD"
      },
      "source": [
        "# **Monte Carlo - Estimating Probability by simulation**"
      ]
    },
    {
      "cell_type": "markdown",
      "metadata": {
        "id": "bgckTsKc820F"
      },
      "source": [
        "\n",
        "The probability of an event  A  can be estimated as follows. We can simulate the experiment repeatedly and independently, say  N  times, and count the number of times the event occurred, say NA.\n",
        "\n",
        "A good estimate of  P(A)  is the following: \n",
        "        P(A)≈NA/N.\n",
        "\n",
        "As  N  grows larger and larger, the estimate becomes better and better. This method is generally termed as **Monte Carlo simulation**.\n",
        "\n",
        "**Example:**\n",
        "\n",
        "Suppose that the number of runs scored of a delivery is uniform in {1,2,3,4,5,6} independent of what happens in other deliveries. A batsman needs to bat till he hits a six. What is the probability that he needs fewer than 6 deliveries to do so?\n",
        "\n",
        "**Estimation:**\n",
        "\n",
        "Let X be the random variable that the batsman hitting runs in each delivery. X can take values {1,2,3,4,5,6}. X is uniform with p = 1/6. The batsman need to hit until he hits a 6. So X is in Geometric Random Variable with Probability P(X=6) = 1/6. \n",
        "The probability that he needs fewer than 6 deliveries to hit a 6 = P(X < 6)\n",
        "\n",
        "For Geometric random variable, ***P(X <= k) = 1 - (1-p)^k***\n",
        "\n",
        "So P(X < 6) = P(x <= 5) = 1 - (1 - 1/6)^5 = **0.59**.\n",
        "\n",
        "\n",
        "\n",
        "\n"
      ]
    },
    {
      "cell_type": "code",
      "metadata": {
        "colab": {
          "base_uri": "https://localhost:8080/"
        },
        "id": "Tlqcz86BDKVF",
        "outputId": "6a02c93f-b48a-4404-db7f-dc20a636dcbe"
      },
      "source": [
        "import numpy as np\n",
        "\n",
        "def uniform(n, m):\n",
        "  return np.random.randint(1, n+1, size = m)\n",
        "\n",
        "no = 0                              #variable for storing number of event occurence\n",
        "no_of_first_six = 0                 #variable for delivery no of first 6\n",
        "delivery_no = 0                     #counter variable for delivery number\n",
        "for i in range(10000):              #repetitions\n",
        "  while(True):                      #repeat until hits a 6\n",
        "    delivery_no += 1\n",
        "    runs = uniform(6,1)               #experiment\n",
        "    if(runs == 6):\n",
        "      no_of_first_six = delivery_no\n",
        "      break                         #exit the loop if a 6 is hit\n",
        "  delivery_no = 0  \n",
        "  if(no_of_first_six < 6):                     #Event\n",
        "    no = no + 1\n",
        "print('probability estimate by Monte Carlo\\t:',no/10000)   #probability estimate by Monte Carlo\n",
        "\n",
        "#Probability using the formula of Geometric random variable\n",
        "p = (1 - (1-(1/6)) ** 5)\n",
        "print('Probability esimated by formula \\t:',p)"
      ],
      "execution_count": null,
      "outputs": [
        {
          "output_type": "stream",
          "name": "stdout",
          "text": [
            "probability estimate by Monte Carlo\t: 0.604\n",
            "Probability esimated by formula \t: 0.598122427983539\n"
          ]
        }
      ]
    }
  ]
}