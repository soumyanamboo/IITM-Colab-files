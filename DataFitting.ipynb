{
  "nbformat": 4,
  "nbformat_minor": 0,
  "metadata": {
    "colab": {
      "provenance": [],
      "authorship_tag": "ABX9TyMI53nPq8Qa57SEPIv8F6r/"
    },
    "kernelspec": {
      "name": "python3",
      "display_name": "Python 3"
    },
    "language_info": {
      "name": "python"
    }
  },
  "cells": [
    {
      "cell_type": "code",
      "metadata": {
        "id": "43sP4QZDRXl1"
      },
      "source": [
        "import numpy as np\n",
        "import scipy.stats as st\n",
        "import pandas as pd\n",
        "import matplotlib.pyplot as plt"
      ],
      "execution_count": null,
      "outputs": []
    },
    {
      "cell_type": "code",
      "metadata": {
        "id": "RqCjwS2DSpbJ",
        "colab": {
          "base_uri": "https://localhost:8080/",
          "height": 332
        },
        "outputId": "ba422e15-c04d-4558-8b8b-a67c620e2e06"
      },
      "source": [
        "'''f = open(\"/content/drive/MyDrive/data.txt\",\"r\")\n",
        "s = f.readline()\n",
        "x = []\n",
        "while(s!=''):\n",
        "  x.append(int(s))\n",
        "  s = f.readline()\n",
        "print(x)'''\n",
        "\n",
        "x = [75, 80, 20, 45, 42, 40, 40, 50, 87, 10, 60, 20, 30, 80, 60, 30, 40, 60, 22, 18, 80, 23, 48, 67, 35, 80, 52, 60, 50, 42, 70, 15, 65, 72, 30, 30, 80, 60, 50, 70, 50, 50, 60, 50, 27, 60, 10, 50, 60, 17, 50, 40, 77, 65, 30, 45, 25, 33, 40, 70, 33, 40, 30, 50, 50, 80, 30, 50, 43, 30, 60, 30, 47, 37, 37, 45, 50, 30, 30, 87, 62, 35, 47, 70, 50, 60, 50, 60, 80, 73, 30, 90, 70, 82, 60, 80, 30, 80, 10, 40, 60, 65, 30, 10, 40, 40, 30, 27, 50, 75, 37, 40, 65, 55, 80, 40, 60, 43, 30, 20, 60, 40, 27, 50, 40, 70, 40, 97, 55, 30, 47, 40, 80, 80, 27, 85, 40, 37, 30, 35, 30, 30, 10, 40, 65, 95, 90, 60, 50, 65, 17, 53, 40, 60, 43, 55, 57, 50, 60, 80, 50, 80, 55, 60, 20, 60, 55, 80, 60, 80, 80, 50, 60, 45, 35, 28, 60, 37, 25, 38, 60, 70, 60, 60, 25, 47, 33, 57, 90, 50, 30, 20, 22, 47, 47, 30, 33, 30, 30, 80, 50, 70, 57, 20, 62, 33, 80, 20, 40, 25, 35, 40, 73, 60, 60, 23, 20, 17, 50, 70, 57, 35, 67, 50, 30, 72, 80, 20, 60, 50, 50, 47, 35, 37, 40, 60, 40, 37, 50, 52, 67, 40, 28, 20, 20, 35, 30, 60, 35, 20, 30, 50, 40, 63, 40, 47, 0, 70, 80, 55, 18, 63, 75, 30, 60, 80, 25, 87, 62, 90, 30, 20, 50, 30, 23, 30, 83, 48, 53, 55, 25, 52, 55, 62, 40, 80, 45, 70, 30, 73, 40, 50, 60, 20, 30, 40, 33, 70, 35, 47, 83, 33, 20, 30, 40, 42, 52, 25, 40, 20, 65, 47, 40, 40, 75, 47, 63, 45, 10, 80, 48, 60, 87, 10, 80, 20, 45, 40, 30, 60, 100, 38, 60, 25, 42, 82, 48, 40, 47, 50, 72, 60, 50, 57, 48, 85, 60, 70, 45, 57, 50, 30, 60, 40, 30, 55, 52, 55, 28, 47, 40, 35, 38, 43, 50, 50, 35, 53, 30, 35, 33, 52, 77, 60, 20, 40, 70, 43, 40, 45, 58, 40, 50, 67, 40, 45, 10, 20, 55, 10, 40, 77, 60, 72, 25, 30, 90, 45, 40, 50, 50, 30, 47, 100, 57, 40, 57, 33, 10, 20, 37, 27, 40, 30, 60, 30, 40, 40, 30, 77, 47, 70, 27, 40, 48, 30, 70, 35, 23, 70, 30, 30, 77, 20, 50, 30, 30, 80, 95, 20, 40, 55, 40, 20, 43, 60, 50, 42, 35, 40, 70, 60, 60, 7, 50, 70, 50, 27, 43, 18, 40, 33, 60, 85, 45, 25, 70, 30, 50, 45, 40, 50, 15, 42, 40, 50, 60, 62, 40, 60, 65, 0, 40, 47, 25, 40, 50, 30, 77, 50, 50, 30, 37, 25, 50, 90, 70, 35, 33, 85, 60, 27, 30, 40, 52, 57, 20, 60, 70, 20, 28, 40, 40, 15, 20, 33, 52, 40, 10, 80, 50, 30, 38, 45, 80, 40, 67, 70, 40, 70, 35, 50, 80, 75, 33, 35, 80, 20, 40, 52, 38, 20, 50, 40, 70, 10, 45, 90, 40, 55, 40, 5, 50, 40, 40, 70, 17, 45, 93, 20, 22, 50, 20, 87, 27, 40, 50, 28, 42, 40, 30, 47, 30, 25, 5, 87, 30, 25, 65, 50, 15, 82, 40, 50, 30, 25, 65, 30, 50, 15, 55, 22, 30, 25, 10, 50, 17, 12, 23, 40, 85, 50, 50, 40, 37, 20, 50, 22, 50, 60, 77, 35, 50, 60, 68, 65, 40, 50, 50, 30, 33, 25, 20, 55, 77, 15, 40, 30, 20, 47, 32, 55, 37, 20, 82, 47, 15, 52, 50, 65, 30, 40, 90, 20, 35, 30, 25, 35, 53, 80, 67, 60, 35, 45, 70, 70, 27, 70, 20, 27, 32, 53, 40, 73, 45, 40, 28, 60, 60, 85, 63, 23, 25, 50, 40, 37, 52, 40, 80, 0, 50, 40, 40, 72, 23, 80, 90, 87, 62, 67, 78, 40, 40, 97, 80, 40, 37, 47, 40, 47, 20, 20, 58, 48, 70, 55, 55, 50, 47, 50, 27, 70, 58, 30, 80, 10, 37, 30, 35, 15, 50, 50, 18, 70, 30, 68, 55, 50, 50, 80, 40, 0, 20, 40, 0, 42, 20, 50, 33, 8, 30, 40, 10, 50, 30, 0, 30, 100, 40, 30, 15, 47, 33, 50, 80, 10, 55, 27, 60, 40, 40, 80, 25, 25, 40, 45, 73, 40, 10, 53, 55, 40, 60, 30, 60, 40, 70, 75, 20, 60, 60, 22, 20, 30, 40, 20, 45, 50, 30, 40, 40, 60, 87, 30, 45, 47, 20, 33, 47, 80, 20, 85, 30, 50, 15, 40, 40, 50, 37, 30, 55, 20, 77, 10, 50, 70, 65, 100, 50, 77, 30, 45, 55, 20, 45, 25, 43, 55, 20, 40, 60, 30, 60, 23, 40, 45, 60, 63, 30, 23, 73, 40, 60, 15, 42, 30, 15, 80, 30, 55, 10, 43, 18, 23, 40, 20, 25, 30, 40, 42, 20, 75, 45, 57, 50, 40, 37, 55, 70, 37, 65, 15, 53, 10, 30, 50, 53, 42, 75, 40, 30, 30, 48, 20, 30, 40, 10, 60, 57, 37, 70, 40, 60, 30, 40, 20, 30, 5, 42, 50, 35, 45, 30, 30, 50, 40, 40, 28, 38, 5, 60, 70, 10, 20, 50, 50, 37, 25, 57, 23, 37, 30, 35, 38, 72, 40, 50, 87, 20, 10, 70, 57, 30, 25, 77, 30, 50, 60, 30, 30, 30, 28, 40, 33, 67, 27, 77, 60, 40, 20, 50, 57, 40, 80, 60, 20, 35, 40, 67, 40, 77, 50, 30, 65, 20, 23, 90, 50, 10, 52, 60, 40, 20, 50, 40, 10, 60, 22, 30, 50, 57, 48, 70, 18, 10, 47, 40, 40, 77, 32, 70, 40, 33, 65, 50, 50, 47, 80, 77, 30, 43, 17, 48, 30, 43, 10, 20, 20, 70, 40, 20, 15, 38, 30, 42, 47, 25, 15, 10, 33, 20, 30, 30, 80, 17, 15, 25, 40, 47, 30, 60, 40, 37, 30, 60, 53, 40, 80, 60, 40, 27, 20, 30, 27, 70, 65, 30, 45, 40, 25, 50, 60, 70, 40, 55, 33, 50, 65, 100, 30, 35, 43, 12, 30, 30, 22, 70, 37, 43, 18, 30, 60, 30, 57, 5, 70, 80, 30, 50, 60, 40, 40, 30, 50, 65, 20, 43, 58, 65, 35, 80, 28, 30, 70, 35, 15, 20, 67, 47, 35, 55, 80, 40, 32, 70, 40, 57, 43, 67, 80, 55, 33, 80, 50, 70, 50, 25, 53, 20, 25, 70, 70, 65, 27, 47, 10, 45, 40, 67, 82, 90, 30, 7, 70, 80, 80, 40, 20, 77, 60, 45, 60, 40, 25, 95, 67, 30, 40, 60, 47, 5, 30, 30, 40, 52, 23, 60, 50, 50, 30, 70, 97, 35, 20, 15, 30, 10, 60, 37, 28, 50, 70, 47, 70, 60, 47, 65, 50, 60, 43, 30, 70, 67, 60, 60, 60, 50, 70, 60, 40, 20, 43, 57, 30, 7, 13, 42, 37, 18, 50, 50, 15, 30, 30, 50, 50, 27, 10, 60, 0, 25, 57, 25, 20, 0, 60, 80, 30, 50, 32, 70, 23, 28, 20, 45, 15, 5, 40, 15, 60, 80, 50, 38, 25, 40, 70, 48, 10, 53, 50, 33, 52, 40, 10, 47, 40, 42, 40, 60, 50, 20, 50, 90, 45, 37, 10, 53, 60, 50, 32, 60, 58, 27, 60, 50, 55, 20, 43, 20, 42, 55, 57, 30, 33, 40, 30, 40, 40, 40, 20, 50, 47, 52, 40, 40, 60, 50, 50, 40, 50, 50, 50, 38, 47, 27, 40, 37, 50, 60, 60, 5, 60, 70, 15, 35, 38, 40, 67, 33, 47, 55, 50, 23, 33, 67, 60, 60, 30, 25, 10, 50]\n",
        "\n",
        "plt.hist(x,bins=10,range=(0,100),density=True) \n",
        "\n",
        "#plt.show()\n"
      ],
      "execution_count": null,
      "outputs": [
        {
          "output_type": "execute_result",
          "data": {
            "text/plain": [
              "(array([0.001514  , 0.00567752, 0.01241484, 0.01741105, 0.02036336,\n",
              "        0.01612415, 0.01165783, 0.00726722, 0.00575322, 0.00181681]),\n",
              " array([  0.,  10.,  20.,  30.,  40.,  50.,  60.,  70.,  80.,  90., 100.]),\n",
              " <a list of 10 Patch objects>)"
            ]
          },
          "metadata": {},
          "execution_count": 52
        },
        {
          "output_type": "display_data",
          "data": {
            "image/png": "[encoded data removed]",
            "text/plain": [
              "<Figure size 432x288 with 1 Axes>"
            ]
          },
          "metadata": {
            "needs_background": "light"
          }
        }
      ]
    },
    {
      "cell_type": "markdown",
      "metadata": {
        "id": "qMkObvtVgTc0"
      },
      "source": [
        "# Fitting a Normal distribution\n",
        "From the histogram, the distribution could be modelled as Normal$(\\mu,\\sigma)$. The next step is to estimate $\\mu$ and $\\sigma$ from the given samples.\n",
        "\n",
        "## Method of moments\n",
        "Suppose $m_1$ and $m_2$ are the first and second moments of the samples. The method of moments estimates are obtained by solving\n",
        "$$m_1=\\mu,$$\n",
        "$$m_2= \\mu^2 + \\sigma^2.$$\n",
        "\n",
        "The solution results in\n",
        "\n",
        "$$\\hat{\\mu}_{MM} = m_1,$$\n",
        "$$\\hat{\\sigma}_{MM}^2 = {m_2-m_1^2} = {s^2}.$$\n",
        "\n",
        "We now compute the values of $m_1$ (sample mean) and $s^2=m_2-m_1^2$ (sample variance) from the data. After that, we can compute the estimates."
      ]
    },
    {
      "cell_type": "code",
      "metadata": {
        "colab": {
          "base_uri": "https://localhost:8080/"
        },
        "id": "HRmffNz8gTGT",
        "outputId": "3d966fcd-d065-4d51-d972-1ef65d3ae579"
      },
      "source": [
        "m1 = np.average(x)\n",
        "print(m1)\n",
        "ss = np.var(x)\n",
        "print(ss)"
      ],
      "execution_count": null,
      "outputs": [
        {
          "output_type": "stream",
          "name": "stdout",
          "text": [
            "45.02800908402725\n",
            "395.8637120847018\n"
          ]
        }
      ]
    },
    {
      "cell_type": "code",
      "metadata": {
        "colab": {
          "base_uri": "https://localhost:8080/"
        },
        "id": "uUNjjjR1o87l",
        "outputId": "ac79adce-328d-498f-a4a6-4726ad7ec991"
      },
      "source": [
        "u_mm = m1\n",
        "sigma_mm = np.sqrt(ss)\n",
        "print(u_mm)\n",
        "print(sigma_mm) "
      ],
      "execution_count": null,
      "outputs": [
        {
          "output_type": "stream",
          "name": "stdout",
          "text": [
            "45.02800908402725\n",
            "19.89632408473238\n"
          ]
        }
      ]
    },
    {
      "cell_type": "markdown",
      "metadata": {
        "id": "ZLZ853v0nr66"
      },
      "source": [
        "We can plot the density of the Normal on top of the density histogram to check if the estimate gives a reasonable fit."
      ]
    },
    {
      "cell_type": "code",
      "metadata": {
        "colab": {
          "base_uri": "https://localhost:8080/",
          "height": 265
        },
        "id": "uuygaf-lptn0",
        "outputId": "7d4d2749-14cd-4277-c132-a5f6c92deac4"
      },
      "source": [
        "fig,ax = plt.subplots(1,1)\n",
        "ax.hist(x,density=True,bins=10)\n",
        "normal = np.linspace(0,100,50)\n",
        "ax.plot(normal, st.norm.pdf(normal,loc=u_mm,scale=sigma_mm),label='Normal fit MM')\n",
        "ax.legend(loc='best')\n",
        "plt.show()"
      ],
      "execution_count": null,
      "outputs": [
        {
          "output_type": "display_data",
          "data": {
            "image/png": "[encoded data removed]",
            "text/plain": [
              "<Figure size 432x288 with 1 Axes>"
            ]
          },
          "metadata": {
            "needs_background": "light"
          }
        }
      ]
    },
    {
      "cell_type": "markdown",
      "metadata": {
        "id": "ZrQ1sY91qqmN"
      },
      "source": [
        "## Maximum likelihood\n",
        "We now turn to the maximum likelihood estimator for $\\mu$ and $\\sigma$. The likelihood $L(x_1,x_2,\\ldots,x_n)$ can be written as\n",
        "$$L = (\\frac{1}{\\sigma(\\sqrt(2π))})^n  e^\\frac{-\\Sigma (x_i -\\mu)^2}{2\\sigma^2}$$\n",
        "ML Estimation: \n",
        "$$\\hat\\mu , \\hat\\sigma = min_\\mu\\sigma = [\\frac{1}{2\\sigma^2}\\Sigma(x_i-\\mu)^2 + nlog\\sigma] $$\n",
        "\n",
        "Take derivative with respect to $\\mu$ and equate it to zero, we get,\n",
        "\n",
        "$$\\hat\\mu_{ML} = \\frac{(X_1 + X_2+\\ldots+X_n)}{n} $$\n",
        "Take derivative with respect to $\\sigma$ and equate it to zero, we get,\n",
        "\n",
        "$$\\hat\\sigma^2_{ML} = \\frac{(X_1-\\hat\\mu_{ML})^2+(X_2-\\hat\\mu_{ML})^2\\ldots+(X_n-\\hat\\mu_{ML})^2}{n} $$ "
      ]
    },
    {
      "cell_type": "code",
      "metadata": {
        "colab": {
          "base_uri": "https://localhost:8080/"
        },
        "id": "-LxJKt_8wtd1",
        "outputId": "3e70952b-02f4-4583-f6ec-262daad7c295"
      },
      "source": [
        "u_ml = np.average(x)\n",
        "\n",
        "sigma2 = np.array((x-u_ml)**2)\n",
        "\n",
        "sigma2_ml = np.average(sigma2)\n",
        "sigma_ml = np.sqrt(sigma2_ml)\n",
        "print(u_ml)\n",
        "print(sigma2_ml)\n",
        "print(sigma_ml) "
      ],
      "execution_count": null,
      "outputs": [
        {
          "output_type": "stream",
          "name": "stdout",
          "text": [
            "45.02800908402725\n",
            "395.8637120847018\n",
            "19.89632408473238\n"
          ]
        }
      ]
    },
    {
      "cell_type": "code",
      "metadata": {
        "colab": {
          "base_uri": "https://localhost:8080/",
          "height": 265
        },
        "id": "96jkT702yTl4",
        "outputId": "e2290355-0e44-498f-8d9f-894aebf4aa46"
      },
      "source": [
        "fig,ax = plt.subplots(1,1)\n",
        "ax.hist(x,density=True,bins=10)\n",
        "normal = np.linspace(0,100,50)\n",
        "ax.plot(normal, st.norm.pdf(normal,loc=u_ml,scale=sigma_ml),label='Normal fit ML')\n",
        "ax.legend(loc='best')\n",
        "plt.show()"
      ],
      "execution_count": null,
      "outputs": [
        {
          "output_type": "display_data",
          "data": {
            "image/png": "[encoded data removed]",
            "text/plain": [
              "<Figure size 432x288 with 1 Axes>"
            ]
          },
          "metadata": {
            "needs_background": "light"
          }
        }
      ]
    },
    {
      "cell_type": "markdown",
      "metadata": {
        "id": "5gL9MJshy7W0"
      },
      "source": [
        "Now, we can combine Histogram, MM and ML fit"
      ]
    },
    {
      "cell_type": "code",
      "metadata": {
        "colab": {
          "base_uri": "https://localhost:8080/",
          "height": 265
        },
        "id": "TmbOgmLmy6yM",
        "outputId": "94d14cfc-a462-4247-dcfa-2c319c47a3e0"
      },
      "source": [
        "fig,ax = plt.subplots(1,1)\n",
        "ax.hist(x,density=True,bins=10)\n",
        "normal = np.linspace(0,100,50)\n",
        "ax.plot(normal, st.norm.pdf(normal,loc=u_mm,scale=sigma_mm),label='Normal fit MM')\n",
        "ax.plot(normal, st.norm.pdf(normal,loc=u_ml,scale=sigma_ml),label='Normal fit ML')\n",
        "ax.legend(loc='best')\n",
        "plt.show()"
      ],
      "execution_count": null,
      "outputs": [
        {
          "output_type": "display_data",
          "data": {
            "image/png": "[encoded data removed]",
            "text/plain": [
              "<Figure size 432x288 with 1 Axes>"
            ]
          },
          "metadata": {
            "needs_background": "light"
          }
        }
      ]
    },
    {
      "cell_type": "markdown",
      "metadata": {
        "id": "irn4so3xzW3c"
      },
      "source": [
        "Both the curves are literally on top of each other showing very good fit.\n",
        "\n",
        "Let us use the bootstrap method to find variance and confidence intervals for the ML estimator."
      ]
    },
    {
      "cell_type": "markdown",
      "metadata": {
        "id": "ocGPivKc0ddk"
      },
      "source": [
        "# Bootstrap\n",
        "For Normal Distribution, both MM and ML have the same $\\hat\\mu$ same as sample Mean.\n",
        "\n",
        "Bootstrap is a Monte Carlo simulation method for computing metrics such as bias, variance and confidence intervals for estimators.\n",
        "\n",
        "In the above example, we have found $\\hat{\\mu}_{MM}=45.028\n",
        "$ and $\\hat{\\sigma}_{MM}=19.8963$ and $\\hat\\sigma_{ML}^2 = 395.8637$.\n",
        "\n",
        "Using these values, we simulate $n=1321$ *iid* samples from Normal$(45.028,395.8637)$ and, using the simulated samples, we compute new estimates of $\\mu$ and $\\sigma$ and call them $\\hat{\\mu}_{MM}(1)$ and $\\hat{\\sigma}_{MM}(1)$. Now, repeat the simulation $N$ times to get estimates $\\hat{\\mu}_{MM}(i)$ and $\\hat{\\sigma}_{MM}(i)$, $i=1,2,\\ldots,N$.\n",
        "\n",
        "The sample variance of $\\{\\hat{\\mu}_{MM}(1), \\hat{\\mu}_{MM}(2),\\ldots,\\hat{\\mu}_{MM}(N)\\}$ is taken to be the bootstrap estimate for the variance of the estimator."
      ]
    },
    {
      "cell_type": "code",
      "metadata": {
        "colab": {
          "base_uri": "https://localhost:8080/",
          "height": 366
        },
        "id": "8Nb5xNNO2Cn2",
        "outputId": "6870e572-41ea-4a04-c84a-188468923519"
      },
      "source": [
        "N = 1000\n",
        "n = 1321\n",
        "mu_hat = np.zeros(N)\n",
        "sigma_hat = np.zeros(N)\n",
        "\n",
        "for i in np.arange(N):\n",
        "  xi = st.norm.rvs(loc=u_mm,scale=sigma_mm,size=n)\n",
        "  m1i = np.average(xi)\n",
        "  ssi = np.var(xi)\n",
        "  mu_hat[i] = m1i \n",
        "  sigma_hat[i] = np.sqrt(ssi)\n",
        "#print(mu_hat);print(sigma_hat)\n",
        "ax1 = plt.subplot(121)\n",
        "ax1.hist(mu_hat,density=True)\n",
        "ax2 = plt.subplot(122)\n",
        "ax2.hist(sigma_hat,density=True)"
      ],
      "execution_count": null,
      "outputs": [
        {
          "output_type": "execute_result",
          "data": {
            "text/plain": [
              "(array([0.03085145, 0.16968298, 0.39721244, 0.80599417, 1.01424147,\n",
              "        0.82527633, 0.40878173, 0.15040083, 0.04242075, 0.01156929]),\n",
              " array([18.70887927, 18.96818635, 19.22749344, 19.48680053, 19.74610761,\n",
              "        20.0054147 , 20.26472178, 20.52402887, 20.78333595, 21.04264304,\n",
              "        21.30195013]),\n",
              " <a list of 10 Patch objects>)"
            ]
          },
          "metadata": {},
          "execution_count": 77
        },
        {
          "output_type": "display_data",
          "data": {
            "image/png": "[encoded data removed]",
            "text/plain": [
              "<Figure size 432x288 with 2 Axes>"
            ]
          },
          "metadata": {
            "needs_background": "light"
          }
        }
      ]
    },
    {
      "cell_type": "markdown",
      "metadata": {
        "id": "fnYBahXF3rT0"
      },
      "source": [
        "Notice how the histograms look roughly normal.\n",
        "\n",
        "The sample standard deviations of the estimates is a bootstrap estimate for the standard error of the estimator."
      ]
    },
    {
      "cell_type": "code",
      "metadata": {
        "colab": {
          "base_uri": "https://localhost:8080/"
        },
        "id": "Ii7G33503tdL",
        "outputId": "eec00e7c-af4f-4f01-fe98-5195a8b53712"
      },
      "source": [
        "print(np.sqrt(np.var(mu_hat)))\n",
        "print(np.sqrt(np.var(sigma_hat)))"
      ],
      "execution_count": null,
      "outputs": [
        {
          "output_type": "stream",
          "name": "stdout",
          "text": [
            "0.5400361394963011\n",
            "0.39392416622938875\n"
          ]
        }
      ]
    },
    {
      "cell_type": "markdown",
      "metadata": {
        "id": "C_xV4bpH7gEq"
      },
      "source": [
        "## Confidence intervals\n",
        "Suppose a parameter $\\theta$ is estimated as $\\hat{\\theta}$, and suppose the distribution of $\\hat{\\theta}-\\theta$ is known. Then, to obtain $(100(1-\\alpha))$% confidence intervals (typical values are $\\alpha=0.1$ for 90% confidence intervals and $\\alpha=0.05$ for 95% confidence intervals), we use the CDF of $\\hat{\\theta}-\\theta$ to obtain $\\delta_1$ and $\\delta_2$ such that\n",
        "$$P(\\hat{\\theta}-\\theta\\le\\delta_1)=1-\\frac{\\alpha}{2},$$\n",
        "$$P(\\hat{\\theta}-\\theta\\le\\delta_2)=\\frac{\\alpha}{2}.$$\n",
        "Actually, the inverse of the CDF of $\\hat{\\theta}-\\theta$ is used to find the above $\\delta_1$ and $\\delta_2$. From the above, we see that\n",
        "$$P(\\hat{\\theta}-\\theta \\le \\delta_1)-P(\\hat{\\theta}-\\theta \\le \\delta_2)= P(\\delta_2< \\hat{\\theta}-\\theta \\le \\delta_1)=1-\\frac{\\alpha}{2}-\\frac{\\alpha}{2}=1-\\alpha.$$\n",
        "The above is rewritten as\n",
        "$$P(\\hat{\\theta}-\\delta_1\\le\\theta<\\hat{\\theta}-\\delta_2)=1-\\alpha,$$\n",
        "and $[\\hat{\\theta}-\\delta_1,\\hat{\\theta}-\\delta_2]$ is interpreted as the $100(1-\\alpha)$% confidence interval.\n",
        "\n",
        "## Bootstrap confidence intervals\n",
        "The CDF of $\\hat{\\theta}-\\theta$ might be difficult to determine in many cases, and the bootstrap method is used often to estimate $\\delta_1$ and $\\delta_2$. We consider the list of numbers $\\{\\hat{\\mu}_{MM}(1),...,\\ldots,\\hat{\\mu}_{MM}(N)\\}$ and pick the $100(\\alpha/2)$-th percentile and $100(1-\\alpha/2)$-th percentile."
      ]
    },
    {
      "cell_type": "code",
      "metadata": {
        "colab": {
          "base_uri": "https://localhost:8080/"
        },
        "id": "M8e8lKb-8NwD",
        "outputId": "67d1ff03-1390-4562-e60d-5358c76d6d89"
      },
      "source": [
        "delta1 = np.percentile(mu_hat - u_mm, 97.5)\n",
        "delta2 = np.percentile(mu_hat - u_mm, 2.5)\n",
        "print([delta1,delta2])"
      ],
      "execution_count": null,
      "outputs": [
        {
          "output_type": "stream",
          "name": "stdout",
          "text": [
            "[1.1191319966977886, -1.005299971375862]\n"
          ]
        }
      ]
    },
    {
      "cell_type": "markdown",
      "metadata": {
        "id": "aBoV5QCh8qYa"
      },
      "source": [
        "The 95% confidence interval for $\\mu$ using the method of moments estimator works out to $[45.028 - 1.1191,45.028 - (-1.0052)]=[43.9089,46.0332]$."
      ]
    }
  ]
}